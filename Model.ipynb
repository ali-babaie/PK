{
 "cells": [
  {
   "cell_type": "code",
   "execution_count": 1,
   "metadata": {},
   "outputs": [
    {
     "name": "stderr",
     "output_type": "stream",
     "text": [
      "C:\\Users\\aliba\\anaconda3\\lib\\site-packages\\tensorflow\\python\\framework\\dtypes.py:516: FutureWarning: Passing (type, 1) or '1type' as a synonym of type is deprecated; in a future version of numpy, it will be understood as (type, (1,)) / '(1,)type'.\n",
      "  _np_qint8 = np.dtype([(\"qint8\", np.int8, 1)])\n",
      "C:\\Users\\aliba\\anaconda3\\lib\\site-packages\\tensorflow\\python\\framework\\dtypes.py:517: FutureWarning: Passing (type, 1) or '1type' as a synonym of type is deprecated; in a future version of numpy, it will be understood as (type, (1,)) / '(1,)type'.\n",
      "  _np_quint8 = np.dtype([(\"quint8\", np.uint8, 1)])\n",
      "C:\\Users\\aliba\\anaconda3\\lib\\site-packages\\tensorflow\\python\\framework\\dtypes.py:518: FutureWarning: Passing (type, 1) or '1type' as a synonym of type is deprecated; in a future version of numpy, it will be understood as (type, (1,)) / '(1,)type'.\n",
      "  _np_qint16 = np.dtype([(\"qint16\", np.int16, 1)])\n",
      "C:\\Users\\aliba\\anaconda3\\lib\\site-packages\\tensorflow\\python\\framework\\dtypes.py:519: FutureWarning: Passing (type, 1) or '1type' as a synonym of type is deprecated; in a future version of numpy, it will be understood as (type, (1,)) / '(1,)type'.\n",
      "  _np_quint16 = np.dtype([(\"quint16\", np.uint16, 1)])\n",
      "C:\\Users\\aliba\\anaconda3\\lib\\site-packages\\tensorflow\\python\\framework\\dtypes.py:520: FutureWarning: Passing (type, 1) or '1type' as a synonym of type is deprecated; in a future version of numpy, it will be understood as (type, (1,)) / '(1,)type'.\n",
      "  _np_qint32 = np.dtype([(\"qint32\", np.int32, 1)])\n",
      "C:\\Users\\aliba\\anaconda3\\lib\\site-packages\\tensorflow\\python\\framework\\dtypes.py:525: FutureWarning: Passing (type, 1) or '1type' as a synonym of type is deprecated; in a future version of numpy, it will be understood as (type, (1,)) / '(1,)type'.\n",
      "  np_resource = np.dtype([(\"resource\", np.ubyte, 1)])\n",
      "C:\\Users\\aliba\\anaconda3\\lib\\site-packages\\tensorboard\\compat\\tensorflow_stub\\dtypes.py:541: FutureWarning: Passing (type, 1) or '1type' as a synonym of type is deprecated; in a future version of numpy, it will be understood as (type, (1,)) / '(1,)type'.\n",
      "  _np_qint8 = np.dtype([(\"qint8\", np.int8, 1)])\n",
      "C:\\Users\\aliba\\anaconda3\\lib\\site-packages\\tensorboard\\compat\\tensorflow_stub\\dtypes.py:542: FutureWarning: Passing (type, 1) or '1type' as a synonym of type is deprecated; in a future version of numpy, it will be understood as (type, (1,)) / '(1,)type'.\n",
      "  _np_quint8 = np.dtype([(\"quint8\", np.uint8, 1)])\n",
      "C:\\Users\\aliba\\anaconda3\\lib\\site-packages\\tensorboard\\compat\\tensorflow_stub\\dtypes.py:543: FutureWarning: Passing (type, 1) or '1type' as a synonym of type is deprecated; in a future version of numpy, it will be understood as (type, (1,)) / '(1,)type'.\n",
      "  _np_qint16 = np.dtype([(\"qint16\", np.int16, 1)])\n",
      "C:\\Users\\aliba\\anaconda3\\lib\\site-packages\\tensorboard\\compat\\tensorflow_stub\\dtypes.py:544: FutureWarning: Passing (type, 1) or '1type' as a synonym of type is deprecated; in a future version of numpy, it will be understood as (type, (1,)) / '(1,)type'.\n",
      "  _np_quint16 = np.dtype([(\"quint16\", np.uint16, 1)])\n",
      "C:\\Users\\aliba\\anaconda3\\lib\\site-packages\\tensorboard\\compat\\tensorflow_stub\\dtypes.py:545: FutureWarning: Passing (type, 1) or '1type' as a synonym of type is deprecated; in a future version of numpy, it will be understood as (type, (1,)) / '(1,)type'.\n",
      "  _np_qint32 = np.dtype([(\"qint32\", np.int32, 1)])\n",
      "C:\\Users\\aliba\\anaconda3\\lib\\site-packages\\tensorboard\\compat\\tensorflow_stub\\dtypes.py:550: FutureWarning: Passing (type, 1) or '1type' as a synonym of type is deprecated; in a future version of numpy, it will be understood as (type, (1,)) / '(1,)type'.\n",
      "  np_resource = np.dtype([(\"resource\", np.ubyte, 1)])\n"
     ]
    }
   ],
   "source": [
    "import os\n",
    "import tensorflow as tf\n",
    "from tensorflow import keras"
   ]
  },
  {
   "cell_type": "code",
   "execution_count": 8,
   "metadata": {},
   "outputs": [],
   "source": [
    "train_empty_dir = os.path.join('pk-train/Empty')\n",
    "\n",
    "train_occupied_dir = os.path.join('pk-train-/Occupied')\n",
    "\n",
    "validation_empty_dir = os.path.join('pk-val/Empty')\n",
    "\n",
    "validation_occpied_dir = os.path.join('pk-val/Occupied')"
   ]
  },
  {
   "cell_type": "code",
   "execution_count": 9,
   "metadata": {},
   "outputs": [],
   "source": [
    "model = tf.keras.models.Sequential([\n",
    "    tf.keras.layers.Conv2D(16, (3,3), activation='relu', input_shape=(32, 40, 3)),\n",
    "    tf.keras.layers.MaxPooling2D(2, 2),\n",
    "    tf.keras.layers.Conv2D(32, (3,3), activation='relu'),\n",
    "    tf.keras.layers.MaxPooling2D(2,2),\n",
    "    tf.keras.layers.Conv2D(64, (3,3), activation='relu'),\n",
    "    tf.keras.layers.MaxPooling2D(2,2),\n",
    "    #tf.keras.layers.Conv2D(64, (3,3), activation='relu'),\n",
    "    #tf.keras.layers.MaxPooling2D(2,2),\n",
    "    #tf.keras.layers.Conv2D(64, (3,3), activation='relu'),\n",
    "    #tf.keras.layers.MaxPooling2D(2,2),\n",
    "    tf.keras.layers.Flatten(),\n",
    "    tf.keras.layers.Dropout(0.4),\n",
    "    tf.keras.layers.Dense(512, activation='relu'),\n",
    "    tf.keras.layers.Dense(1, activation='sigmoid')\n",
    "])"
   ]
  },
  {
   "cell_type": "code",
   "execution_count": 10,
   "metadata": {},
   "outputs": [
    {
     "name": "stdout",
     "output_type": "stream",
     "text": [
      "Model: \"sequential_1\"\n",
      "_________________________________________________________________\n",
      "Layer (type)                 Output Shape              Param #   \n",
      "=================================================================\n",
      "conv2d_3 (Conv2D)            (None, 30, 38, 16)        448       \n",
      "_________________________________________________________________\n",
      "max_pooling2d_3 (MaxPooling2 (None, 15, 19, 16)        0         \n",
      "_________________________________________________________________\n",
      "conv2d_4 (Conv2D)            (None, 13, 17, 32)        4640      \n",
      "_________________________________________________________________\n",
      "max_pooling2d_4 (MaxPooling2 (None, 6, 8, 32)          0         \n",
      "_________________________________________________________________\n",
      "conv2d_5 (Conv2D)            (None, 4, 6, 64)          18496     \n",
      "_________________________________________________________________\n",
      "max_pooling2d_5 (MaxPooling2 (None, 2, 3, 64)          0         \n",
      "_________________________________________________________________\n",
      "flatten_1 (Flatten)          (None, 384)               0         \n",
      "_________________________________________________________________\n",
      "dropout_1 (Dropout)          (None, 384)               0         \n",
      "_________________________________________________________________\n",
      "dense_2 (Dense)              (None, 512)               197120    \n",
      "_________________________________________________________________\n",
      "dense_3 (Dense)              (None, 1)                 513       \n",
      "=================================================================\n",
      "Total params: 221,217\n",
      "Trainable params: 221,217\n",
      "Non-trainable params: 0\n",
      "_________________________________________________________________\n"
     ]
    }
   ],
   "source": [
    "model.summary()"
   ]
  },
  {
   "cell_type": "code",
   "execution_count": 11,
   "metadata": {},
   "outputs": [],
   "source": [
    "from tensorflow.keras.optimizers import RMSprop\n",
    "\n",
    "model.compile(loss='binary_crossentropy',\n",
    "              optimizer=RMSprop(lr=0.0001),\n",
    "              metrics=['acc'])"
   ]
  },
  {
   "cell_type": "code",
   "execution_count": 12,
   "metadata": {},
   "outputs": [
    {
     "name": "stdout",
     "output_type": "stream",
     "text": [
      "Found 18280 images belonging to 2 classes.\n",
      "Found 7474 images belonging to 2 classes.\n"
     ]
    }
   ],
   "source": [
    "from tensorflow.keras.preprocessing.image import ImageDataGenerator\n",
    "\n",
    "train_datagen = ImageDataGenerator(\n",
    "      rescale=1./255,\n",
    "      rotation_range=40,\n",
    "      width_shift_range=0.2,\n",
    "      height_shift_range=0.2,\n",
    "      shear_range=0.2,\n",
    "      zoom_range=0.2,\n",
    "      horizontal_flip=True,\n",
    "      fill_mode='nearest')\n",
    "\n",
    "validation_datagen = ImageDataGenerator(rescale=1/255)\n",
    "\n",
    "train_generator = train_datagen.flow_from_directory(\n",
    "        'pk-train/',  \n",
    "        target_size=(32, 40),  \n",
    "        batch_size=128,\n",
    "        class_mode='binary')\n",
    "\n",
    "validation_generator = validation_datagen.flow_from_directory(\n",
    "        'pk-val/', \n",
    "        target_size=(32, 40), \n",
    "        batch_size=32,\n",
    "        class_mode='binary')"
   ]
  },
  {
   "cell_type": "code",
   "execution_count": 13,
   "metadata": {},
   "outputs": [],
   "source": [
    "# Save the model according to the conditions\n",
    "checkpoint = tf.keras.callbacks.ModelCheckpoint(\"XXX.h5\", monitor='val_acc', verbose=1, \n",
    "                                                save_best_only=True, save_weights_only=False, mode='auto', save_freq='epoch') \n",
    "                             \n",
    "early = tf.keras.callbacks.EarlyStopping(monitor='val_acc', min_delta=0, patience=10, verbose=1, mode='auto')"
   ]
  },
  {
   "cell_type": "code",
   "execution_count": 14,
   "metadata": {},
   "outputs": [
    {
     "name": "stdout",
     "output_type": "stream",
     "text": [
      "Epoch 1/30\n",
      " 9/10 [==========================>...] - ETA: 0s - loss: 0.6768 - acc: 0.5104 \n",
      "Epoch 00001: val_acc improved from -inf to 0.50000, saving model to XXX.h5\n",
      "10/10 [==============================] - 9s 935ms/step - loss: 0.6752 - acc: 0.5102 - val_loss: 0.6603 - val_acc: 0.5000\n",
      "Epoch 2/30\n",
      " 9/10 [==========================>...] - ETA: 0s - loss: 0.6403 - acc: 0.5356\n",
      "Epoch 00002: val_acc did not improve from 0.50000\n",
      "10/10 [==============================] - 2s 244ms/step - loss: 0.6368 - acc: 0.5398 - val_loss: 0.6161 - val_acc: 0.5000\n",
      "Epoch 3/30\n",
      " 9/10 [==========================>...] - ETA: 0s - loss: 0.5905 - acc: 0.6502\n",
      "Epoch 00003: val_acc improved from 0.50000 to 0.78125, saving model to XXX.h5\n",
      "10/10 [==============================] - 3s 345ms/step - loss: 0.5885 - acc: 0.6687 - val_loss: 0.5584 - val_acc: 0.7812\n",
      "Epoch 4/30\n",
      " 9/10 [==========================>...] - ETA: 0s - loss: 0.5341 - acc: 0.8524\n",
      "Epoch 00004: val_acc improved from 0.78125 to 0.88750, saving model to XXX.h5\n",
      "10/10 [==============================] - 3s 338ms/step - loss: 0.5295 - acc: 0.8562 - val_loss: 0.4808 - val_acc: 0.8875\n",
      "Epoch 5/30\n",
      " 9/10 [==========================>...] - ETA: 0s - loss: 0.4636 - acc: 0.9271\n",
      "Epoch 00005: val_acc improved from 0.88750 to 0.92500, saving model to XXX.h5\n",
      "10/10 [==============================] - 3s 337ms/step - loss: 0.4595 - acc: 0.9273 - val_loss: 0.4042 - val_acc: 0.9250\n",
      "Epoch 6/30\n",
      " 9/10 [==========================>...] - ETA: 0s - loss: 0.3900 - acc: 0.9314\n",
      "Epoch 00006: val_acc did not improve from 0.92500\n",
      "10/10 [==============================] - 3s 331ms/step - loss: 0.3862 - acc: 0.9336 - val_loss: 0.3253 - val_acc: 0.9062\n",
      "Epoch 7/30\n",
      " 9/10 [==========================>...] - ETA: 0s - loss: 0.3181 - acc: 0.9566\n",
      "Epoch 00007: val_acc did not improve from 0.92500\n",
      "10/10 [==============================] - 3s 326ms/step - loss: 0.3149 - acc: 0.9555 - val_loss: 0.2680 - val_acc: 0.9250\n",
      "Epoch 8/30\n",
      " 9/10 [==========================>...] - ETA: 0s - loss: 0.2692 - acc: 0.9505\n",
      "Epoch 00008: val_acc did not improve from 0.92500\n",
      "10/10 [==============================] - 3s 328ms/step - loss: 0.2690 - acc: 0.9484 - val_loss: 0.2221 - val_acc: 0.9187\n",
      "Epoch 9/30\n",
      " 9/10 [==========================>...] - ETA: 0s - loss: 0.2151 - acc: 0.9566\n",
      "Epoch 00009: val_acc did not improve from 0.92500\n",
      "10/10 [==============================] - 3s 330ms/step - loss: 0.2138 - acc: 0.9578 - val_loss: 0.2134 - val_acc: 0.9187\n",
      "Epoch 10/30\n",
      " 9/10 [==========================>...] - ETA: 0s - loss: 0.1789 - acc: 0.9618\n",
      "Epoch 00010: val_acc did not improve from 0.92500\n",
      "10/10 [==============================] - 3s 329ms/step - loss: 0.1781 - acc: 0.9609 - val_loss: 0.1923 - val_acc: 0.9187\n",
      "Epoch 11/30\n",
      " 9/10 [==========================>...] - ETA: 0s - loss: 0.1615 - acc: 0.9627\n",
      "Epoch 00011: val_acc improved from 0.92500 to 0.95000, saving model to XXX.h5\n",
      "10/10 [==============================] - 4s 382ms/step - loss: 0.1615 - acc: 0.9633 - val_loss: 0.1519 - val_acc: 0.9500\n",
      "Epoch 12/30\n",
      " 9/10 [==========================>...] - ETA: 0s - loss: 0.1265 - acc: 0.9696\n",
      "Epoch 00012: val_acc did not improve from 0.95000\n",
      "10/10 [==============================] - 4s 368ms/step - loss: 0.1279 - acc: 0.9672 - val_loss: 0.1441 - val_acc: 0.9500\n",
      "Epoch 13/30\n",
      " 9/10 [==========================>...] - ETA: 0s - loss: 0.1134 - acc: 0.9661\n",
      "Epoch 00013: val_acc did not improve from 0.95000\n",
      "10/10 [==============================] - 3s 329ms/step - loss: 0.1132 - acc: 0.9664 - val_loss: 0.1873 - val_acc: 0.9187\n",
      "Epoch 14/30\n",
      " 9/10 [==========================>...] - ETA: 0s - loss: 0.0953 - acc: 0.9800\n",
      "Epoch 00014: val_acc did not improve from 0.95000\n",
      "10/10 [==============================] - 3s 324ms/step - loss: 0.0951 - acc: 0.9805 - val_loss: 0.1777 - val_acc: 0.9250\n",
      "Epoch 15/30\n",
      " 9/10 [==========================>...] - ETA: 0s - loss: 0.0838 - acc: 0.9783\n",
      "Epoch 00015: val_acc did not improve from 0.95000\n",
      "10/10 [==============================] - 3s 288ms/step - loss: 0.0819 - acc: 0.9789 - val_loss: 0.1403 - val_acc: 0.9500\n",
      "Epoch 16/30\n",
      " 9/10 [==========================>...] - ETA: 0s - loss: 0.0775 - acc: 0.9774\n",
      "Epoch 00016: val_acc did not improve from 0.95000\n",
      "10/10 [==============================] - 3s 268ms/step - loss: 0.0768 - acc: 0.9773 - val_loss: 0.1955 - val_acc: 0.9187\n",
      "Epoch 17/30\n",
      " 9/10 [==========================>...] - ETA: 0s - loss: 0.0724 - acc: 0.9783\n",
      "Epoch 00017: val_acc did not improve from 0.95000\n",
      "10/10 [==============================] - 3s 270ms/step - loss: 0.0729 - acc: 0.9773 - val_loss: 0.2488 - val_acc: 0.9187\n",
      "Epoch 18/30\n",
      " 9/10 [==========================>...] - ETA: 0s - loss: 0.0664 - acc: 0.9826\n",
      "Epoch 00018: val_acc did not improve from 0.95000\n",
      "10/10 [==============================] - 3s 268ms/step - loss: 0.0641 - acc: 0.9844 - val_loss: 0.1893 - val_acc: 0.9312\n",
      "Epoch 19/30\n",
      " 9/10 [==========================>...] - ETA: 0s - loss: 0.0720 - acc: 0.9774\n",
      "Epoch 00019: val_acc did not improve from 0.95000\n",
      "10/10 [==============================] - 3s 265ms/step - loss: 0.0739 - acc: 0.9766 - val_loss: 0.1864 - val_acc: 0.9312\n",
      "Epoch 20/30\n",
      " 9/10 [==========================>...] - ETA: 0s - loss: 0.0775 - acc: 0.9800\n",
      "Epoch 00020: val_acc did not improve from 0.95000\n",
      "10/10 [==============================] - 3s 273ms/step - loss: 0.0736 - acc: 0.9812 - val_loss: 0.1806 - val_acc: 0.9312\n",
      "Epoch 21/30\n",
      " 9/10 [==========================>...] - ETA: 0s - loss: 0.0624 - acc: 0.9835\n",
      "Epoch 00021: val_acc did not improve from 0.95000\n",
      "10/10 [==============================] - 3s 268ms/step - loss: 0.0626 - acc: 0.9820 - val_loss: 0.1848 - val_acc: 0.9312\n",
      "Epoch 00021: early stopping\n"
     ]
    }
   ],
   "source": [
    "history = model.fit_generator(\n",
    "train_generator,\n",
    "steps_per_epoch = 10,\n",
    "epochs = 30,\n",
    "validation_data = validation_generator,\n",
    "validation_steps = 5,\n",
    "callbacks = [checkpoint, early])"
   ]
  },
  {
   "cell_type": "code",
   "execution_count": 15,
   "metadata": {},
   "outputs": [
    {
     "data": {
      "image/png": "[encoded data removed]",
      "text/plain": [
       "<Figure size 432x288 with 1 Axes>"
      ]
     },
     "metadata": {
      "needs_background": "light"
     },
     "output_type": "display_data"
    },
    {
     "data": {
      "image/png": "[encoded data removed]",
      "text/plain": [
       "<Figure size 432x288 with 1 Axes>"
      ]
     },
     "metadata": {
      "needs_background": "light"
     },
     "output_type": "display_data"
    }
   ],
   "source": [
    "import matplotlib.pyplot as plt\n",
    "acc = history.history['acc']\n",
    "val_acc = history.history['val_acc']\n",
    "loss = history.history['loss']\n",
    "val_loss = history.history['val_loss']\n",
    "\n",
    "epochs = range(len(acc))\n",
    "\n",
    "plt.plot(epochs, acc, 'r', label='Training accuracy')\n",
    "plt.plot(epochs, val_acc, 'b', label='Validation accuracy')\n",
    "plt.title('Training and validation accuracy')\n",
    "plt.legend()\n",
    "\n",
    "plt.figure()\n",
    "\n",
    "plt.plot(epochs, loss, 'r', label='Training Loss')\n",
    "plt.plot(epochs, val_loss, 'b', label='Validation Loss')\n",
    "plt.title('Training and validation loss')\n",
    "plt.legend()\n",
    "\n",
    "plt.show()"
   ]
  }
 ],
 "metadata": {
  "kernelspec": {
   "display_name": "Python 3",
   "language": "python",
   "name": "python3"
  },
  "language_info": {
   "codemirror_mode": {
    "name": "ipython",
    "version": 3
   },
   "file_extension": ".py",
   "mimetype": "text/x-python",
   "name": "python",
   "nbconvert_exporter": "python",
   "pygments_lexer": "ipython3",
   "version": "3.7.6"
  }
 },
 "nbformat": 4,
 "nbformat_minor": 4
}
