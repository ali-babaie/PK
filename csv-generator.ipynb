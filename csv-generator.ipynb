{
 "cells": [
  {
   "cell_type": "code",
   "execution_count": 1,
   "metadata": {},
   "outputs": [],
   "source": [
    "import csv\n",
    "import xml.etree.ElementTree as ET\n",
    "\n",
    "# parse xml file\n",
    "tree = ET.parse('2012-12-07_17_12_25.xml')\n",
    "root = tree.getroot()\n",
    "\n",
    "# open a file for writing\n",
    "spaces_data = open('UFPR04.csv', 'w')\n",
    "\n",
    "# create the csv writer object\n",
    "csvwriter = csv.writer(spaces_data)\n",
    "csv_headers = ['id','x1', 'y1', 'x2', 'y2',]\n",
    "csvwriter.writerow(csv_headers)\n",
    "\n",
    "# loop through xml\n",
    "for space in root:\n",
    "    row = []\n",
    "    row.append(space.attrib['id'])\n",
    "    # points\n",
    "    contour = space.find('contour')\n",
    "    x_arr = []\n",
    "    y_arr = []\n",
    "    for point in contour.findall('point'):\n",
    "        xy = point.attrib\n",
    "        x_arr.append(xy['x'])\n",
    "        y_arr.append(xy['y'])\n",
    "        \n",
    "    row = row + [min(x_arr), min(y_arr), max(x_arr), max(y_arr)]\n",
    "    csvwriter.writerow(row)\n",
    "spaces_data.close()"
   ]
  }
 ],
 "metadata": {
  "kernelspec": {
   "display_name": "Python 3",
   "language": "python",
   "name": "python3"
  },
  "language_info": {
   "codemirror_mode": {
    "name": "ipython",
    "version": 3
   },
   "file_extension": ".py",
   "mimetype": "text/x-python",
   "name": "python",
   "nbconvert_exporter": "python",
   "pygments_lexer": "ipython3",
   "version": "3.7.6"
  }
 },
 "nbformat": 4,
 "nbformat_minor": 4
}
