{
 "cells": [
  {
   "cell_type": "code",
   "execution_count": 1,
   "metadata": {},
   "outputs": [
    {
     "name": "stderr",
     "output_type": "stream",
     "text": [
      "C:\\Users\\aliba\\anaconda3\\lib\\site-packages\\tensorflow\\python\\framework\\dtypes.py:516: FutureWarning: Passing (type, 1) or '1type' as a synonym of type is deprecated; in a future version of numpy, it will be understood as (type, (1,)) / '(1,)type'.\n",
      "  _np_qint8 = np.dtype([(\"qint8\", np.int8, 1)])\n",
      "C:\\Users\\aliba\\anaconda3\\lib\\site-packages\\tensorflow\\python\\framework\\dtypes.py:517: FutureWarning: Passing (type, 1) or '1type' as a synonym of type is deprecated; in a future version of numpy, it will be understood as (type, (1,)) / '(1,)type'.\n",
      "  _np_quint8 = np.dtype([(\"quint8\", np.uint8, 1)])\n",
      "C:\\Users\\aliba\\anaconda3\\lib\\site-packages\\tensorflow\\python\\framework\\dtypes.py:518: FutureWarning: Passing (type, 1) or '1type' as a synonym of type is deprecated; in a future version of numpy, it will be understood as (type, (1,)) / '(1,)type'.\n",
      "  _np_qint16 = np.dtype([(\"qint16\", np.int16, 1)])\n",
      "C:\\Users\\aliba\\anaconda3\\lib\\site-packages\\tensorflow\\python\\framework\\dtypes.py:519: FutureWarning: Passing (type, 1) or '1type' as a synonym of type is deprecated; in a future version of numpy, it will be understood as (type, (1,)) / '(1,)type'.\n",
      "  _np_quint16 = np.dtype([(\"quint16\", np.uint16, 1)])\n",
      "C:\\Users\\aliba\\anaconda3\\lib\\site-packages\\tensorflow\\python\\framework\\dtypes.py:520: FutureWarning: Passing (type, 1) or '1type' as a synonym of type is deprecated; in a future version of numpy, it will be understood as (type, (1,)) / '(1,)type'.\n",
      "  _np_qint32 = np.dtype([(\"qint32\", np.int32, 1)])\n",
      "C:\\Users\\aliba\\anaconda3\\lib\\site-packages\\tensorflow\\python\\framework\\dtypes.py:525: FutureWarning: Passing (type, 1) or '1type' as a synonym of type is deprecated; in a future version of numpy, it will be understood as (type, (1,)) / '(1,)type'.\n",
      "  np_resource = np.dtype([(\"resource\", np.ubyte, 1)])\n",
      "C:\\Users\\aliba\\anaconda3\\lib\\site-packages\\tensorboard\\compat\\tensorflow_stub\\dtypes.py:541: FutureWarning: Passing (type, 1) or '1type' as a synonym of type is deprecated; in a future version of numpy, it will be understood as (type, (1,)) / '(1,)type'.\n",
      "  _np_qint8 = np.dtype([(\"qint8\", np.int8, 1)])\n",
      "C:\\Users\\aliba\\anaconda3\\lib\\site-packages\\tensorboard\\compat\\tensorflow_stub\\dtypes.py:542: FutureWarning: Passing (type, 1) or '1type' as a synonym of type is deprecated; in a future version of numpy, it will be understood as (type, (1,)) / '(1,)type'.\n",
      "  _np_quint8 = np.dtype([(\"quint8\", np.uint8, 1)])\n",
      "C:\\Users\\aliba\\anaconda3\\lib\\site-packages\\tensorboard\\compat\\tensorflow_stub\\dtypes.py:543: FutureWarning: Passing (type, 1) or '1type' as a synonym of type is deprecated; in a future version of numpy, it will be understood as (type, (1,)) / '(1,)type'.\n",
      "  _np_qint16 = np.dtype([(\"qint16\", np.int16, 1)])\n",
      "C:\\Users\\aliba\\anaconda3\\lib\\site-packages\\tensorboard\\compat\\tensorflow_stub\\dtypes.py:544: FutureWarning: Passing (type, 1) or '1type' as a synonym of type is deprecated; in a future version of numpy, it will be understood as (type, (1,)) / '(1,)type'.\n",
      "  _np_quint16 = np.dtype([(\"quint16\", np.uint16, 1)])\n",
      "C:\\Users\\aliba\\anaconda3\\lib\\site-packages\\tensorboard\\compat\\tensorflow_stub\\dtypes.py:545: FutureWarning: Passing (type, 1) or '1type' as a synonym of type is deprecated; in a future version of numpy, it will be understood as (type, (1,)) / '(1,)type'.\n",
      "  _np_qint32 = np.dtype([(\"qint32\", np.int32, 1)])\n",
      "C:\\Users\\aliba\\anaconda3\\lib\\site-packages\\tensorboard\\compat\\tensorflow_stub\\dtypes.py:550: FutureWarning: Passing (type, 1) or '1type' as a synonym of type is deprecated; in a future version of numpy, it will be understood as (type, (1,)) / '(1,)type'.\n",
      "  np_resource = np.dtype([(\"resource\", np.ubyte, 1)])\n"
     ]
    }
   ],
   "source": [
    "import csv\n",
    "from PIL import Image\n",
    "from tensorflow import keras\n",
    "import tensorflow as tf\n",
    "import numpy as np\n",
    "from PIL import Image, ImageDraw "
   ]
  },
  {
   "cell_type": "code",
   "execution_count": 2,
   "metadata": {},
   "outputs": [],
   "source": [
    "def makePrediction(spot_img, model):\n",
    "    img_array = keras.preprocessing.image.img_to_array(spot_img)\n",
    "    img_array = tf.expand_dims(img_array, 0) # Create a batch\n",
    "    result = model.predict(img_array, steps=1)\n",
    "    result = np.rint(result)\n",
    "    if (result):\n",
    "        return 1\n",
    "    else:\n",
    "        return 0"
   ]
  },
  {
   "cell_type": "markdown",
   "metadata": {},
   "source": [
    "## PUCPR Parking"
   ]
  },
  {
   "cell_type": "code",
   "execution_count": 17,
   "metadata": {},
   "outputs": [],
   "source": [
    "def PUCPRparking():\n",
    "    # im = Image.open(r\"2012-09-13_11_05_19.jpg\") \n",
    "    im = Image.open(r\"2012-09-13_06_10_29.jpg\")   \n",
    "    spots_csv = open('PUCPR.csv', mode='r')\n",
    "    csv_reader = csv.DictReader(spots_csv)\n",
    "\n",
    "    occupied = []\n",
    "    available = []\n",
    "    model = tf.keras.models.load_model('XXX.h5')\n",
    "    draw = ImageDraw.Draw(im)\n",
    "    for row in csv_reader:\n",
    "        spot_img = im.crop((int(row[\"x1\"]), int(row[\"y1\"]), int(row[\"x2\"]), int(row[\"y2\"])))\n",
    "        newsize = (40, 32) \n",
    "        spot_img = spot_img.resize(newsize) \n",
    "        # spot_img.show()                             # Comment Uncomment\n",
    "        result = makePrediction(spot_img,model)\n",
    "        if result == 1:\n",
    "            occupied.append(row[\"id\"])\n",
    "            draw.rectangle([int(row[\"x1\"]), int(row[\"y1\"]), int(row[\"x2\"]), int(row[\"y2\"])], fill=None, outline='red', width=1)\n",
    "        else:\n",
    "            available.append(row[\"id\"])\n",
    "            draw.rectangle([int(row[\"x1\"]), int(row[\"y1\"]), int(row[\"x2\"]), int(row[\"y2\"])], fill=None, outline='green', width=1)\n",
    "    print(f\"{len(occupied)} occupied\")\n",
    "    print(f\"{len(available)} available\")\n",
    "    print('These spots are available ', available)\n",
    "    im.show()"
   ]
  },
  {
   "cell_type": "code",
   "execution_count": 18,
   "metadata": {},
   "outputs": [
    {
     "name": "stdout",
     "output_type": "stream",
     "text": [
      "13 occupied\n",
      "87 available\n",
      "These spots are available  ['1', '2', '3', '4', '5', '6', '7', '8', '9', '10', '11', '12', '13', '14', '15', '16', '17', '18', '19', '20', '22', '23', '24', '25', '26', '27', '28', '29', '30', '31', '32', '33', '34', '35', '36', '37', '38', '39', '40', '41', '43', '44', '45', '46', '47', '48', '49', '50', '51', '52', '53', '54', '55', '56', '57', '58', '59', '60', '61', '62', '63', '65', '66', '67', '68', '69', '70', '71', '73', '74', '75', '76', '77', '78', '79', '80', '81', '82', '83', '84', '85', '87', '88', '90', '98', '99', '100']\n"
     ]
    }
   ],
   "source": [
    "PUCPRparking()"
   ]
  },
  {
   "cell_type": "markdown",
   "metadata": {},
   "source": [
    "## UFPR04 Parking"
   ]
  },
  {
   "cell_type": "code",
   "execution_count": 3,
   "metadata": {},
   "outputs": [],
   "source": [
    "def UFPR04parking():\n",
    "    im = Image.open(r\"2012-12-07_20_07_28.jpg\")       \n",
    "    # im = Image.open(r\"2012-12-07_17_12_25.jpg\")     \n",
    "    spots_csv = open('UFPR04.csv', mode='r')\n",
    "    csv_reader = csv.DictReader(spots_csv)\n",
    "\n",
    "    occupied = []\n",
    "    available = []\n",
    "    model = tf.keras.models.load_model('XXX.h5')\n",
    "    draw = ImageDraw.Draw(im)\n",
    "    for row in csv_reader:\n",
    "        spot_img = im.crop((int(row[\"x1\"]), int(row[\"y1\"]), int(row[\"x2\"]), int(row[\"y2\"])))\n",
    "        newsize = (40, 32) \n",
    "        spot_img = spot_img.resize(newsize) \n",
    "        # spot_img.show()                             # Comment Uncomment \n",
    "        result = makePrediction(spot_img,model)\n",
    "        if result == 1:\n",
    "            occupied.append(row[\"id\"])\n",
    "            draw.rectangle([int(row[\"x1\"]), int(row[\"y1\"]), int(row[\"x2\"]), int(row[\"y2\"])], fill=None, outline='red', width=1)\n",
    "        else:\n",
    "            available.append(row[\"id\"])\n",
    "            draw.rectangle([int(row[\"x1\"]), int(row[\"y1\"]), int(row[\"x2\"]), int(row[\"y2\"])], fill=None, outline='green', width=1)\n",
    "    print(f\"{len(occupied)} occupied\")\n",
    "    print(f\"{len(available)} available\")\n",
    "    print('These spots are available ', available)\n",
    "    im.show()"
   ]
  },
  {
   "cell_type": "code",
   "execution_count": 4,
   "metadata": {},
   "outputs": [
    {
     "name": "stdout",
     "output_type": "stream",
     "text": [
      "WARNING:tensorflow:From C:\\Users\\aliba\\anaconda3\\lib\\site-packages\\tensorflow\\python\\ops\\init_ops.py:97: calling GlorotUniform.__init__ (from tensorflow.python.ops.init_ops) with dtype is deprecated and will be removed in a future version.\n",
      "Instructions for updating:\n",
      "Call initializer instance with the dtype argument instead of passing it to the constructor\n",
      "WARNING:tensorflow:From C:\\Users\\aliba\\anaconda3\\lib\\site-packages\\tensorflow\\python\\ops\\init_ops.py:1251: calling VarianceScaling.__init__ (from tensorflow.python.ops.init_ops) with dtype is deprecated and will be removed in a future version.\n",
      "Instructions for updating:\n",
      "Call initializer instance with the dtype argument instead of passing it to the constructor\n",
      "WARNING:tensorflow:From C:\\Users\\aliba\\anaconda3\\lib\\site-packages\\tensorflow\\python\\ops\\init_ops.py:97: calling Zeros.__init__ (from tensorflow.python.ops.init_ops) with dtype is deprecated and will be removed in a future version.\n",
      "Instructions for updating:\n",
      "Call initializer instance with the dtype argument instead of passing it to the constructor\n",
      "WARNING:tensorflow:From C:\\Users\\aliba\\anaconda3\\lib\\site-packages\\tensorflow\\python\\ops\\nn_impl.py:180: add_dispatch_support.<locals>.wrapper (from tensorflow.python.ops.array_ops) is deprecated and will be removed in a future version.\n",
      "Instructions for updating:\n",
      "Use tf.where in 2.0, which has the same broadcast rule as np.where\n",
      "18 occupied\n",
      "10 available\n",
      "These spots are available  ['2', '7', '8', '16', '17', '21', '22', '23', '24', '27']\n"
     ]
    }
   ],
   "source": [
    "UFPR04parking()"
   ]
  },
  {
   "cell_type": "markdown",
   "metadata": {},
   "source": [
    "## UFPR05 Parking"
   ]
  },
  {
   "cell_type": "code",
   "execution_count": 5,
   "metadata": {},
   "outputs": [],
   "source": [
    "def UFPR05parking():\n",
    "    # im = Image.open(r\"2013-02-22_06_05_00.jpg\")         \n",
    "    im = Image.open(r\"2013-02-22_07_15_01.jpg\")             \n",
    "    # im = Image.open(r\"2013-04-09_09_30_04.jpg\")          \n",
    "    # im = Image.open(r\"2013-04-09_07_35_01.jpg\")         \n",
    "    # im = Image.open(r\"2013-03-13_17_20_13.jpg\")         \n",
    "    spots_csv = open('UFPR05.csv', mode='r')\n",
    "    csv_reader = csv.DictReader(spots_csv)\n",
    "\n",
    "    occupied = []\n",
    "    available = []\n",
    "    model = tf.keras.models.load_model('XXX.h5')\n",
    "    draw = ImageDraw.Draw(im)\n",
    "    for row in csv_reader:\n",
    "        spot_img = im.crop((int(row[\"x1\"]), int(row[\"y1\"]), int(row[\"x2\"]), int(row[\"y2\"])))\n",
    "        newsize = (40, 32) \n",
    "        spot_img = spot_img.resize(newsize) \n",
    "        # spot_img.show()                               # Comment Uncomment\n",
    "        result = makePrediction(spot_img,model)\n",
    "        if result == 1:\n",
    "            occupied.append(row[\"id\"])\n",
    "            draw.rectangle([int(row[\"x1\"]), int(row[\"y1\"]), int(row[\"x2\"]), int(row[\"y2\"])], fill=None, outline='red', width=1)\n",
    "        else:\n",
    "            available.append(row[\"id\"])\n",
    "            draw.rectangle([int(row[\"x1\"]), int(row[\"y1\"]), int(row[\"x2\"]), int(row[\"y2\"])], fill=None, outline='green', width=1)\n",
    "    print(f\"{len(occupied)} occupied\")\n",
    "    print(f\"{len(available)} available\")\n",
    "    print('These spots are available ', available) \n",
    "    im.show()"
   ]
  },
  {
   "cell_type": "code",
   "execution_count": 6,
   "metadata": {},
   "outputs": [
    {
     "name": "stdout",
     "output_type": "stream",
     "text": [
      "28 occupied\n",
      "12 available\n",
      "These spots are available  ['1', '2', '3', '21', '22', '24', '25', '26', '30', '36', '37', '40']\n"
     ]
    }
   ],
   "source": [
    "UFPR05parking()"
   ]
  }
 ],
 "metadata": {
  "kernelspec": {
   "display_name": "Python 3",
   "language": "python",
   "name": "python3"
  },
  "language_info": {
   "codemirror_mode": {
    "name": "ipython",
    "version": 3
   },
   "file_extension": ".py",
   "mimetype": "text/x-python",
   "name": "python",
   "nbconvert_exporter": "python",
   "pygments_lexer": "ipython3",
   "version": "3.7.6"
  }
 },
 "nbformat": 4,
 "nbformat_minor": 4
}
