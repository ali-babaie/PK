{
 "cells": [
  {
   "cell_type": "code",
   "execution_count": 1,
   "metadata": {},
   "outputs": [
    {
     "name": "stderr",
     "output_type": "stream",
     "text": [
      "C:\\Users\\aliba\\anaconda3\\lib\\site-packages\\tensorflow\\python\\framework\\dtypes.py:516: FutureWarning: Passing (type, 1) or '1type' as a synonym of type is deprecated; in a future version of numpy, it will be understood as (type, (1,)) / '(1,)type'.\n",
      "  _np_qint8 = np.dtype([(\"qint8\", np.int8, 1)])\n",
      "C:\\Users\\aliba\\anaconda3\\lib\\site-packages\\tensorflow\\python\\framework\\dtypes.py:517: FutureWarning: Passing (type, 1) or '1type' as a synonym of type is deprecated; in a future version of numpy, it will be understood as (type, (1,)) / '(1,)type'.\n",
      "  _np_quint8 = np.dtype([(\"quint8\", np.uint8, 1)])\n",
      "C:\\Users\\aliba\\anaconda3\\lib\\site-packages\\tensorflow\\python\\framework\\dtypes.py:518: FutureWarning: Passing (type, 1) or '1type' as a synonym of type is deprecated; in a future version of numpy, it will be understood as (type, (1,)) / '(1,)type'.\n",
      "  _np_qint16 = np.dtype([(\"qint16\", np.int16, 1)])\n",
      "C:\\Users\\aliba\\anaconda3\\lib\\site-packages\\tensorflow\\python\\framework\\dtypes.py:519: FutureWarning: Passing (type, 1) or '1type' as a synonym of type is deprecated; in a future version of numpy, it will be understood as (type, (1,)) / '(1,)type'.\n",
      "  _np_quint16 = np.dtype([(\"quint16\", np.uint16, 1)])\n",
      "C:\\Users\\aliba\\anaconda3\\lib\\site-packages\\tensorflow\\python\\framework\\dtypes.py:520: FutureWarning: Passing (type, 1) or '1type' as a synonym of type is deprecated; in a future version of numpy, it will be understood as (type, (1,)) / '(1,)type'.\n",
      "  _np_qint32 = np.dtype([(\"qint32\", np.int32, 1)])\n",
      "C:\\Users\\aliba\\anaconda3\\lib\\site-packages\\tensorflow\\python\\framework\\dtypes.py:525: FutureWarning: Passing (type, 1) or '1type' as a synonym of type is deprecated; in a future version of numpy, it will be understood as (type, (1,)) / '(1,)type'.\n",
      "  np_resource = np.dtype([(\"resource\", np.ubyte, 1)])\n",
      "C:\\Users\\aliba\\anaconda3\\lib\\site-packages\\tensorboard\\compat\\tensorflow_stub\\dtypes.py:541: FutureWarning: Passing (type, 1) or '1type' as a synonym of type is deprecated; in a future version of numpy, it will be understood as (type, (1,)) / '(1,)type'.\n",
      "  _np_qint8 = np.dtype([(\"qint8\", np.int8, 1)])\n",
      "C:\\Users\\aliba\\anaconda3\\lib\\site-packages\\tensorboard\\compat\\tensorflow_stub\\dtypes.py:542: FutureWarning: Passing (type, 1) or '1type' as a synonym of type is deprecated; in a future version of numpy, it will be understood as (type, (1,)) / '(1,)type'.\n",
      "  _np_quint8 = np.dtype([(\"quint8\", np.uint8, 1)])\n",
      "C:\\Users\\aliba\\anaconda3\\lib\\site-packages\\tensorboard\\compat\\tensorflow_stub\\dtypes.py:543: FutureWarning: Passing (type, 1) or '1type' as a synonym of type is deprecated; in a future version of numpy, it will be understood as (type, (1,)) / '(1,)type'.\n",
      "  _np_qint16 = np.dtype([(\"qint16\", np.int16, 1)])\n",
      "C:\\Users\\aliba\\anaconda3\\lib\\site-packages\\tensorboard\\compat\\tensorflow_stub\\dtypes.py:544: FutureWarning: Passing (type, 1) or '1type' as a synonym of type is deprecated; in a future version of numpy, it will be understood as (type, (1,)) / '(1,)type'.\n",
      "  _np_quint16 = np.dtype([(\"quint16\", np.uint16, 1)])\n",
      "C:\\Users\\aliba\\anaconda3\\lib\\site-packages\\tensorboard\\compat\\tensorflow_stub\\dtypes.py:545: FutureWarning: Passing (type, 1) or '1type' as a synonym of type is deprecated; in a future version of numpy, it will be understood as (type, (1,)) / '(1,)type'.\n",
      "  _np_qint32 = np.dtype([(\"qint32\", np.int32, 1)])\n",
      "C:\\Users\\aliba\\anaconda3\\lib\\site-packages\\tensorboard\\compat\\tensorflow_stub\\dtypes.py:550: FutureWarning: Passing (type, 1) or '1type' as a synonym of type is deprecated; in a future version of numpy, it will be understood as (type, (1,)) / '(1,)type'.\n",
      "  np_resource = np.dtype([(\"resource\", np.ubyte, 1)])\n"
     ]
    }
   ],
   "source": [
    "import os\n",
    "import tensorflow as tf\n",
    "from tensorflow import keras"
   ]
  },
  {
   "cell_type": "code",
   "execution_count": 2,
   "metadata": {},
   "outputs": [],
   "source": [
    "train_empty_dir = os.path.join('pk-train/Empty')\n",
    "\n",
    "train_occupied_dir = os.path.join('pk-train-/Occupied')\n",
    "\n",
    "validation_empty_dir = os.path.join('pk-val/Empty')\n",
    "\n",
    "validation_occpied_dir = os.path.join('pk-val/Occupied')"
   ]
  },
  {
   "cell_type": "code",
   "execution_count": 74,
   "metadata": {},
   "outputs": [],
   "source": [
    "model = tf.keras.models.Sequential([\n",
    "    tf.keras.layers.Conv2D(16, (3,3), activation='relu', input_shape=(32, 40, 3)),\n",
    "    tf.keras.layers.MaxPooling2D(2, 2),\n",
    "    tf.keras.layers.Conv2D(32, (3,3), activation='relu'),\n",
    "    tf.keras.layers.MaxPooling2D(2,2),\n",
    "    tf.keras.layers.Conv2D(64, (3,3), activation='relu'),\n",
    "    tf.keras.layers.MaxPooling2D(2,2),\n",
    "    #tf.keras.layers.Conv2D(64, (3,3), activation='relu'),\n",
    "    #tf.keras.layers.MaxPooling2D(2,2),\n",
    "    #tf.keras.layers.Conv2D(64, (3,3), activation='relu'),\n",
    "    #tf.keras.layers.MaxPooling2D(2,2),\n",
    "    tf.keras.layers.Flatten(),\n",
    "    tf.keras.layers.Dropout(0.4),\n",
    "    tf.keras.layers.Dense(512, activation='relu'),\n",
    "    tf.keras.layers.Dense(1, activation='sigmoid')\n",
    "])"
   ]
  },
  {
   "cell_type": "code",
   "execution_count": 75,
   "metadata": {},
   "outputs": [
    {
     "name": "stdout",
     "output_type": "stream",
     "text": [
      "Model: \"sequential_15\"\n",
      "_________________________________________________________________\n",
      "Layer (type)                 Output Shape              Param #   \n",
      "=================================================================\n",
      "conv2d_54 (Conv2D)           (None, 30, 38, 16)        448       \n",
      "_________________________________________________________________\n",
      "max_pooling2d_54 (MaxPooling (None, 15, 19, 16)        0         \n",
      "_________________________________________________________________\n",
      "conv2d_55 (Conv2D)           (None, 13, 17, 32)        4640      \n",
      "_________________________________________________________________\n",
      "max_pooling2d_55 (MaxPooling (None, 6, 8, 32)          0         \n",
      "_________________________________________________________________\n",
      "conv2d_56 (Conv2D)           (None, 4, 6, 64)          18496     \n",
      "_________________________________________________________________\n",
      "max_pooling2d_56 (MaxPooling (None, 2, 3, 64)          0         \n",
      "_________________________________________________________________\n",
      "flatten_15 (Flatten)         (None, 384)               0         \n",
      "_________________________________________________________________\n",
      "dropout_5 (Dropout)          (None, 384)               0         \n",
      "_________________________________________________________________\n",
      "dense_30 (Dense)             (None, 512)               197120    \n",
      "_________________________________________________________________\n",
      "dense_31 (Dense)             (None, 1)                 513       \n",
      "=================================================================\n",
      "Total params: 221,217\n",
      "Trainable params: 221,217\n",
      "Non-trainable params: 0\n",
      "_________________________________________________________________\n"
     ]
    }
   ],
   "source": [
    "model.summary()"
   ]
  },
  {
   "cell_type": "code",
   "execution_count": 76,
   "metadata": {},
   "outputs": [],
   "source": [
    "from tensorflow.keras.optimizers import RMSprop\n",
    "\n",
    "model.compile(loss='binary_crossentropy',\n",
    "              optimizer=RMSprop(lr=0.0001),\n",
    "              metrics=['acc'])"
   ]
  },
  {
   "cell_type": "code",
   "execution_count": 77,
   "metadata": {},
   "outputs": [
    {
     "name": "stdout",
     "output_type": "stream",
     "text": [
      "Found 18280 images belonging to 2 classes.\n",
      "Found 7474 images belonging to 2 classes.\n"
     ]
    }
   ],
   "source": [
    "from tensorflow.keras.preprocessing.image import ImageDataGenerator\n",
    "\n",
    "train_datagen = ImageDataGenerator(\n",
    "      rescale=1./255,\n",
    "      rotation_range=40,\n",
    "      width_shift_range=0.2,\n",
    "      height_shift_range=0.2,\n",
    "      shear_range=0.2,\n",
    "      zoom_range=0.2,\n",
    "      horizontal_flip=True,\n",
    "      fill_mode='nearest')\n",
    "\n",
    "validation_datagen = ImageDataGenerator(rescale=1/255)\n",
    "\n",
    "train_generator = train_datagen.flow_from_directory(\n",
    "        'pk-train/',  \n",
    "        target_size=(32, 40),  \n",
    "        batch_size=128,\n",
    "        class_mode='binary')\n",
    "\n",
    "validation_generator = validation_datagen.flow_from_directory(\n",
    "        'pk-val/', \n",
    "        target_size=(32, 40), \n",
    "        batch_size=32,\n",
    "        class_mode='binary')"
   ]
  },
  {
   "cell_type": "code",
   "execution_count": 78,
   "metadata": {},
   "outputs": [
    {
     "name": "stdout",
     "output_type": "stream",
     "text": [
      "Epoch 1/25\n",
      "4/4 [==============================] - 4s 1s/step - loss: 0.6871 - acc: 0.4961 - val_loss: 0.6885 - val_acc: 0.4062\n",
      "Epoch 2/25\n",
      "4/4 [==============================] - 0s 71ms/step - loss: 0.6757 - acc: 0.5312 - val_loss: 0.6791 - val_acc: 0.4062\n",
      "Epoch 3/25\n",
      "4/4 [==============================] - 0s 74ms/step - loss: 0.6651 - acc: 0.5273 - val_loss: 0.6681 - val_acc: 0.4062\n",
      "Epoch 4/25\n",
      "4/4 [==============================] - 1s 157ms/step - loss: 0.6532 - acc: 0.5645 - val_loss: 0.6542 - val_acc: 0.6953\n",
      "Epoch 5/25\n",
      "4/4 [==============================] - 1s 293ms/step - loss: 0.6416 - acc: 0.7344 - val_loss: 0.6372 - val_acc: 0.8516\n",
      "Epoch 6/25\n",
      "4/4 [==============================] - 1s 295ms/step - loss: 0.6204 - acc: 0.8164 - val_loss: 0.6294 - val_acc: 0.7266\n",
      "Epoch 7/25\n",
      "4/4 [==============================] - 1s 299ms/step - loss: 0.5984 - acc: 0.7559 - val_loss: 0.6055 - val_acc: 0.8359\n",
      "Epoch 8/25\n",
      "4/4 [==============================] - 1s 302ms/step - loss: 0.5845 - acc: 0.8574 - val_loss: 0.5880 - val_acc: 0.8438\n",
      "Epoch 9/25\n",
      "4/4 [==============================] - 1s 293ms/step - loss: 0.5556 - acc: 0.8906 - val_loss: 0.5609 - val_acc: 0.8750\n",
      "Epoch 10/25\n",
      "4/4 [==============================] - 1s 296ms/step - loss: 0.5434 - acc: 0.8906 - val_loss: 0.5234 - val_acc: 0.8750\n",
      "Epoch 11/25\n",
      "4/4 [==============================] - 1s 290ms/step - loss: 0.5116 - acc: 0.9121 - val_loss: 0.5038 - val_acc: 0.8984\n",
      "Epoch 12/25\n",
      "4/4 [==============================] - 1s 300ms/step - loss: 0.4825 - acc: 0.9238 - val_loss: 0.4681 - val_acc: 0.8672\n",
      "Epoch 13/25\n",
      "4/4 [==============================] - 1s 299ms/step - loss: 0.4426 - acc: 0.9414 - val_loss: 0.4456 - val_acc: 0.8828\n",
      "Epoch 14/25\n",
      "4/4 [==============================] - 1s 299ms/step - loss: 0.4320 - acc: 0.9121 - val_loss: 0.4113 - val_acc: 0.8828\n",
      "Epoch 15/25\n",
      "4/4 [==============================] - 1s 294ms/step - loss: 0.4124 - acc: 0.9355 - val_loss: 0.3855 - val_acc: 0.8828\n",
      "Epoch 16/25\n",
      "4/4 [==============================] - 1s 296ms/step - loss: 0.3679 - acc: 0.9551 - val_loss: 0.3589 - val_acc: 0.8828\n",
      "Epoch 17/25\n",
      "4/4 [==============================] - 1s 295ms/step - loss: 0.3550 - acc: 0.9160 - val_loss: 0.3422 - val_acc: 0.8672\n",
      "Epoch 18/25\n",
      "4/4 [==============================] - 1s 290ms/step - loss: 0.3386 - acc: 0.9316 - val_loss: 0.3222 - val_acc: 0.8672\n",
      "Epoch 19/25\n",
      "4/4 [==============================] - 1s 293ms/step - loss: 0.3066 - acc: 0.9336 - val_loss: 0.3021 - val_acc: 0.8828\n",
      "Epoch 20/25\n",
      "4/4 [==============================] - 1s 300ms/step - loss: 0.2951 - acc: 0.9297 - val_loss: 0.3037 - val_acc: 0.8750\n",
      "Epoch 21/25\n",
      "4/4 [==============================] - 1s 298ms/step - loss: 0.2733 - acc: 0.9414 - val_loss: 0.2746 - val_acc: 0.8828\n",
      "Epoch 22/25\n",
      "4/4 [==============================] - 1s 285ms/step - loss: 0.2469 - acc: 0.9406 - val_loss: 0.2655 - val_acc: 0.8828\n",
      "Epoch 23/25\n",
      "4/4 [==============================] - 1s 290ms/step - loss: 0.2455 - acc: 0.9375 - val_loss: 0.2540 - val_acc: 0.8828\n",
      "Epoch 24/25\n",
      "4/4 [==============================] - 1s 289ms/step - loss: 0.2111 - acc: 0.9434 - val_loss: 0.2698 - val_acc: 0.8906\n",
      "Epoch 25/25\n",
      "4/4 [==============================] - 1s 294ms/step - loss: 0.2335 - acc: 0.9336 - val_loss: 0.2353 - val_acc: 0.8828\n"
     ]
    }
   ],
   "source": [
    "history = model.fit(\n",
    "      train_generator,\n",
    "      steps_per_epoch=4,  \n",
    "      epochs=25,\n",
    "      verbose=1,\n",
    "      validation_data = validation_generator,\n",
    "      validation_steps=4)"
   ]
  },
  {
   "cell_type": "code",
   "execution_count": 79,
   "metadata": {},
   "outputs": [
    {
     "data": {
      "image/png": "[encoded data removed]",
      "text/plain": [
       "<Figure size 432x288 with 1 Axes>"
      ]
     },
     "metadata": {
      "needs_background": "light"
     },
     "output_type": "display_data"
    },
    {
     "data": {
      "image/png": "[encoded data removed]",
      "text/plain": [
       "<Figure size 432x288 with 1 Axes>"
      ]
     },
     "metadata": {
      "needs_background": "light"
     },
     "output_type": "display_data"
    }
   ],
   "source": [
    "import matplotlib.pyplot as plt\n",
    "acc = history.history['acc']\n",
    "val_acc = history.history['val_acc']\n",
    "loss = history.history['loss']\n",
    "val_loss = history.history['val_loss']\n",
    "\n",
    "epochs = range(len(acc))\n",
    "\n",
    "plt.plot(epochs, acc, 'r', label='Training accuracy')\n",
    "plt.plot(epochs, val_acc, 'b', label='Validation accuracy')\n",
    "plt.title('Training and validation accuracy')\n",
    "plt.legend()\n",
    "\n",
    "plt.figure()\n",
    "\n",
    "plt.plot(epochs, loss, 'r', label='Training Loss')\n",
    "plt.plot(epochs, val_loss, 'b', label='Validation Loss')\n",
    "plt.title('Training and validation loss')\n",
    "plt.legend()\n",
    "\n",
    "plt.show()"
   ]
  },
  {
   "cell_type": "code",
   "execution_count": 80,
   "metadata": {},
   "outputs": [],
   "source": [
    "model.save('park.h5')"
   ]
  },
  {
   "cell_type": "code",
   "execution_count": 22,
   "metadata": {},
   "outputs": [],
   "source": [
    "import numpy as np\n",
    "import cv2"
   ]
  },
  {
   "cell_type": "code",
   "execution_count": 23,
   "metadata": {},
   "outputs": [
    {
     "name": "stdout",
     "output_type": "stream",
     "text": [
      "[0.]\n",
      "This spot is available\n",
      "[0.]\n",
      "This spot is available\n",
      "[0.]\n",
      "This spot is available\n"
     ]
    }
   ],
   "source": [
    "imageA = 'pk-test/2012-11-11_06_23_46#001.jpg'\n",
    "imageB = 'pk-test/2012-11-11_12_09_01#059.jpg'\n",
    "imageC = 'pk-test/2012-11-11_06_23_46#023.jpg'\n",
    "\n",
    "def getDemoPrediction(file, model):\n",
    "    model = tf.keras.models.load_model(model)\n",
    "    img = keras.preprocessing.image.load_img(\n",
    "    file, target_size=(32, 40))\n",
    "    img_array = keras.preprocessing.image.img_to_array(img)\n",
    "    img_array = tf.expand_dims(img_array, 0) # Create a batch\n",
    "\n",
    "    result = model.predict(img_array, steps=1)\n",
    "    result = np.rint(result)\n",
    "    print(predictions[0])\n",
    "    if (result): \n",
    "        print('This spot is occupied')\n",
    "    else:\n",
    "        print('This spot is available')\n",
    "\n",
    "# First result (imageA) empty\n",
    "getDemoPrediction(imageA,'park.h5')\n",
    "\n",
    "# Second result (imageB) occupied\n",
    "getDemoPrediction(imageB,'park.h5')\n",
    "\n",
    "# Second result (imageC) empty\n",
    "getDemoPrediction(imageC,'park.h5')"
   ]
  },
  {
   "cell_type": "code",
   "execution_count": 19,
   "metadata": {},
   "outputs": [
    {
     "name": "stdout",
     "output_type": "stream",
     "text": [
      "[0.]\n",
      "This spot is Occupied\n",
      "[0.]\n",
      "This spot is Occupied\n",
      "[0.]\n",
      "This spot is Occupied\n"
     ]
    }
   ],
   "source": [
    "imageA = 'pk-test/2012-11-11_06_23_46#001.jpg'\n",
    "imageB = 'pk-test/2012-11-11_12_09_01#059.jpg'\n",
    "imageC = 'pk-test/2012-11-11_06_23_46#023.jpg'\n",
    "\n",
    "def getDemoPrediction(file, model):\n",
    "    model = tf.keras.models.load_model(model)\n",
    "    img = keras.preprocessing.image.load_img(\n",
    "    file, target_size=(32, 40))\n",
    "    img_array = keras.preprocessing.image.img_to_array(img)\n",
    "    img_array = tf.expand_dims(img_array, 0) # Create a batch\n",
    "\n",
    "    predictions = model.predict(img_array, steps=1)\n",
    "    print(predictions[0])\n",
    "    if predictions[0]>0.5:\n",
    "        print(\"This spot is Empty\")\n",
    "    else:\n",
    "        print(\"This spot is Occupied\")\n",
    "\n",
    "# First result (imageA) empty\n",
    "getDemoPrediction(imageA,'park.h5')\n",
    "\n",
    "# Second result (imageB) occupied\n",
    "getDemoPrediction(imageB,'park.h5')\n",
    "\n",
    "# Second result (imageC) empty\n",
    "getDemoPrediction(imageC,'park.h5')"
   ]
  },
  {
   "cell_type": "code",
   "execution_count": 11,
   "metadata": {},
   "outputs": [],
   "source": [
    "model = tf.keras.models.load_model('park.h5')\n",
    "\n",
    "img = keras.preprocessing.image.load_img(\n",
    "    'pk-test/2012-11-11_06_23_46#001.jpg', target_size=(32, 40)\n",
    ")\n",
    "img_array = keras.preprocessing.image.img_to_array(img)\n",
    "img_array = tf.expand_dims(img_array, 0) # Create a batch\n",
    "\n",
    "predictions = model.predict(img_array, steps=1)\n",
    "score = tf.nn.softmax(predictions[0])"
   ]
  },
  {
   "cell_type": "code",
   "execution_count": 16,
   "metadata": {},
   "outputs": [
    {
     "name": "stdout",
     "output_type": "stream",
     "text": [
      "[0.]\n",
      "Empty\n"
     ]
    }
   ],
   "source": [
    "print(predictions[0])\n",
    "if predictions[0]>0.5:\n",
    "    print(\"Occupied\")\n",
    "else:\n",
    "    print(\"Empty\")"
   ]
  },
  {
   "cell_type": "code",
   "execution_count": 17,
   "metadata": {},
   "outputs": [
    {
     "name": "stdout",
     "output_type": "stream",
     "text": [
      "Tensor(\"Softmax:0\", shape=(1,), dtype=float32)\n"
     ]
    }
   ],
   "source": [
    "print(score)"
   ]
  },
  {
   "cell_type": "code",
   "execution_count": null,
   "metadata": {},
   "outputs": [],
   "source": []
  }
 ],
 "metadata": {
  "kernelspec": {
   "display_name": "Python 3",
   "language": "python",
   "name": "python3"
  },
  "language_info": {
   "codemirror_mode": {
    "name": "ipython",
    "version": 3
   },
   "file_extension": ".py",
   "mimetype": "text/x-python",
   "name": "python",
   "nbconvert_exporter": "python",
   "pygments_lexer": "ipython3",
   "version": "3.7.6"
  }
 },
 "nbformat": 4,
 "nbformat_minor": 4
}
